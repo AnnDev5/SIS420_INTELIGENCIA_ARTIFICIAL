{
  "nbformat": 4,
  "nbformat_minor": 0,
  "metadata": {
    "colab": {
      "provenance": []
    },
    "kernelspec": {
      "name": "python3",
      "display_name": "Python 3"
    },
    "language_info": {
      "name": "python"
    }
  },
  "cells": [
    {
      "cell_type": "code",
      "execution_count": 1,
      "metadata": {
        "id": "qUxgZvq33-ID"
      },
      "outputs": [],
      "source": [
        "# utilizado para manejos de directorios y rutas\n",
        "import os\n",
        "\n",
        "# Computacion vectorial y cientifica para python\n",
        "import numpy as np\n",
        "\n",
        "# Librerias para graficación (trazado de gráficos)\n",
        "from matplotlib import pyplot\n",
        "from mpl_toolkits.mplot3d import Axes3D  # Necesario para graficar superficies 3D\n",
        "\n",
        "# llama a matplotlib a embeber graficas dentro de los cuadernillos\n",
        "%matplotlib inline"
      ]
    },
    {
      "cell_type": "code",
      "source": [
        "import pandas as pd\n",
        "from sklearn.preprocessing import LabelEncoder\n",
        "from datetime import datetime"
      ],
      "metadata": {
        "id": "3zeLCpwjiQCT"
      },
      "execution_count": 2,
      "outputs": []
    },
    {
      "cell_type": "code",
      "source": [
        "#Carga de dataset\n",
        "data = pd.read_csv('/content/pizza_v2.csv')"
      ],
      "metadata": {
        "id": "V0ZXOA-6iUmV"
      },
      "execution_count": 3,
      "outputs": []
    },
    {
      "cell_type": "code",
      "source": [
        "print(data)"
      ],
      "metadata": {
        "colab": {
          "base_uri": "https://localhost:8080/"
        },
        "id": "h325dVhXicrs",
        "outputId": "20fc8852-7df2-43d9-e03e-3ea7b59cff75"
      },
      "execution_count": 4,
      "outputs": [
        {
          "output_type": "stream",
          "name": "stdout",
          "text": [
            "    company price_rupiah  diameter      topping           variant     size  \\\n",
            "0         A    Rp235,000   22 inch      chicken  double_signature    jumbo   \n",
            "1         A    Rp198,000   20 inch    papperoni  double_signature    jumbo   \n",
            "2         A    Rp120,000   16 inch    mushrooms  double_signature  reguler   \n",
            "3         A    Rp155,000   14 inch  smoked_beef  double_signature  reguler   \n",
            "4         A    Rp248,000   18 inch   mozzarella  double_signature    jumbo   \n",
            "..      ...          ...       ...          ...               ...      ...   \n",
            "124       E     Rp39,000  8.5 inch         tuna        spicy tuna    small   \n",
            "125       E     Rp72,000   12 inch         tuna        spicy tuna   medium   \n",
            "126       E     Rp99,000   14 inch         tuna        spicy tuna    large   \n",
            "127       E     Rp44,000  8.5 inch         meat   BBQ_meat_fiesta    small   \n",
            "128       E     Rp78,000   12 inch         meat   BBQ_meat_fiesta   medium   \n",
            "\n",
            "    extra_sauce extra_cheese extra_mushrooms  \n",
            "0           yes          yes              no  \n",
            "1           yes          yes              no  \n",
            "2           yes          yes             yes  \n",
            "3           yes           no             yes  \n",
            "4           yes           no             yes  \n",
            "..          ...          ...             ...  \n",
            "124         yes          yes             yes  \n",
            "125         yes          yes             yes  \n",
            "126         yes          yes             yes  \n",
            "127         yes           no             yes  \n",
            "128          no           no             yes  \n",
            "\n",
            "[129 rows x 9 columns]\n"
          ]
        }
      ]
    },
    {
      "cell_type": "code",
      "source": [
        "data.info()"
      ],
      "metadata": {
        "colab": {
          "base_uri": "https://localhost:8080/"
        },
        "id": "ZoYIJwRyifh-",
        "outputId": "4e4bd592-d4d4-40fe-9c87-b3d56066c6f0"
      },
      "execution_count": 5,
      "outputs": [
        {
          "output_type": "stream",
          "name": "stdout",
          "text": [
            "<class 'pandas.core.frame.DataFrame'>\n",
            "RangeIndex: 129 entries, 0 to 128\n",
            "Data columns (total 9 columns):\n",
            " #   Column           Non-Null Count  Dtype \n",
            "---  ------           --------------  ----- \n",
            " 0   company          129 non-null    object\n",
            " 1   price_rupiah     129 non-null    object\n",
            " 2   diameter         129 non-null    object\n",
            " 3   topping          129 non-null    object\n",
            " 4   variant          129 non-null    object\n",
            " 5   size             129 non-null    object\n",
            " 6   extra_sauce      129 non-null    object\n",
            " 7   extra_cheese     129 non-null    object\n",
            " 8   extra_mushrooms  129 non-null    object\n",
            "dtypes: object(9)\n",
            "memory usage: 9.2+ KB\n"
          ]
        }
      ]
    },
    {
      "cell_type": "code",
      "source": [
        "#Eliminamos el tipo de moneda \"Rp\" de la columna 'price_rupiah' y eliminamos la , para tener un strig para que se pueda convertir a float\n",
        "data['price_rupiah'] = data['price_rupiah'].str.replace('Rp', '')\n",
        "data['price_rupiah'] = data['price_rupiah'].str.replace(',', '')\n",
        "#Eliminamos el inch de diameter para tener un valor que posteriormente se convierta a un float\n",
        "data['diameter'] = data['diameter'].str.replace('inch', '')"
      ],
      "metadata": {
        "id": "u8hzHKsJOhW4"
      },
      "execution_count": 6,
      "outputs": []
    },
    {
      "cell_type": "code",
      "source": [
        "print(data)"
      ],
      "metadata": {
        "colab": {
          "base_uri": "https://localhost:8080/"
        },
        "id": "zAP-DKlqO57Y",
        "outputId": "4f925b9b-6fbb-49ab-a2d4-40cda25135c1"
      },
      "execution_count": 7,
      "outputs": [
        {
          "output_type": "stream",
          "name": "stdout",
          "text": [
            "    company price_rupiah diameter      topping           variant     size  \\\n",
            "0         A       235000      22       chicken  double_signature    jumbo   \n",
            "1         A       198000      20     papperoni  double_signature    jumbo   \n",
            "2         A       120000      16     mushrooms  double_signature  reguler   \n",
            "3         A       155000      14   smoked_beef  double_signature  reguler   \n",
            "4         A       248000      18    mozzarella  double_signature    jumbo   \n",
            "..      ...          ...      ...          ...               ...      ...   \n",
            "124       E        39000     8.5          tuna        spicy tuna    small   \n",
            "125       E        72000      12          tuna        spicy tuna   medium   \n",
            "126       E        99000      14          tuna        spicy tuna    large   \n",
            "127       E        44000     8.5          meat   BBQ_meat_fiesta    small   \n",
            "128       E        78000      12          meat   BBQ_meat_fiesta   medium   \n",
            "\n",
            "    extra_sauce extra_cheese extra_mushrooms  \n",
            "0           yes          yes              no  \n",
            "1           yes          yes              no  \n",
            "2           yes          yes             yes  \n",
            "3           yes           no             yes  \n",
            "4           yes           no             yes  \n",
            "..          ...          ...             ...  \n",
            "124         yes          yes             yes  \n",
            "125         yes          yes             yes  \n",
            "126         yes          yes             yes  \n",
            "127         yes           no             yes  \n",
            "128          no           no             yes  \n",
            "\n",
            "[129 rows x 9 columns]\n"
          ]
        }
      ]
    },
    {
      "cell_type": "code",
      "source": [
        "data.info()"
      ],
      "metadata": {
        "colab": {
          "base_uri": "https://localhost:8080/"
        },
        "id": "hrgIgpnCPIPN",
        "outputId": "1e8de381-8b5a-4cdf-da91-fe16a65d372f"
      },
      "execution_count": 8,
      "outputs": [
        {
          "output_type": "stream",
          "name": "stdout",
          "text": [
            "<class 'pandas.core.frame.DataFrame'>\n",
            "RangeIndex: 129 entries, 0 to 128\n",
            "Data columns (total 9 columns):\n",
            " #   Column           Non-Null Count  Dtype \n",
            "---  ------           --------------  ----- \n",
            " 0   company          129 non-null    object\n",
            " 1   price_rupiah     129 non-null    object\n",
            " 2   diameter         129 non-null    object\n",
            " 3   topping          129 non-null    object\n",
            " 4   variant          129 non-null    object\n",
            " 5   size             129 non-null    object\n",
            " 6   extra_sauce      129 non-null    object\n",
            " 7   extra_cheese     129 non-null    object\n",
            " 8   extra_mushrooms  129 non-null    object\n",
            "dtypes: object(9)\n",
            "memory usage: 9.2+ KB\n"
          ]
        }
      ]
    },
    {
      "cell_type": "code",
      "source": [
        "#Convertimos a float los datos de las columnas price_rupiah y diameter\n",
        "data['diameter'] = data['diameter'].astype(float)\n",
        "data['price_rupiah'] = data['price_rupiah'].astype(float)"
      ],
      "metadata": {
        "id": "vDTuE_tkPYo4"
      },
      "execution_count": 9,
      "outputs": []
    },
    {
      "cell_type": "code",
      "source": [
        "data.info()"
      ],
      "metadata": {
        "colab": {
          "base_uri": "https://localhost:8080/"
        },
        "id": "sUmAjylXRsca",
        "outputId": "bc31db54-3a5d-4187-a0e3-ae6b86a00723"
      },
      "execution_count": 10,
      "outputs": [
        {
          "output_type": "stream",
          "name": "stdout",
          "text": [
            "<class 'pandas.core.frame.DataFrame'>\n",
            "RangeIndex: 129 entries, 0 to 128\n",
            "Data columns (total 9 columns):\n",
            " #   Column           Non-Null Count  Dtype  \n",
            "---  ------           --------------  -----  \n",
            " 0   company          129 non-null    object \n",
            " 1   price_rupiah     129 non-null    float64\n",
            " 2   diameter         129 non-null    float64\n",
            " 3   topping          129 non-null    object \n",
            " 4   variant          129 non-null    object \n",
            " 5   size             129 non-null    object \n",
            " 6   extra_sauce      129 non-null    object \n",
            " 7   extra_cheese     129 non-null    object \n",
            " 8   extra_mushrooms  129 non-null    object \n",
            "dtypes: float64(2), object(7)\n",
            "memory usage: 9.2+ KB\n"
          ]
        }
      ]
    },
    {
      "cell_type": "code",
      "source": [
        "#variables categoricas\n",
        "columnas_categoricas = data.select_dtypes(include=['object']).columns\n",
        "#variables fechas\n",
        "columnas_fechas = data.select_dtypes(include=['datetime64']).columns"
      ],
      "metadata": {
        "id": "sFmWfM7Mjn9Z"
      },
      "execution_count": 11,
      "outputs": []
    },
    {
      "cell_type": "code",
      "source": [
        "#Procesamiento de frases o palabras\n",
        "for columna in columnas_categoricas:\n",
        "  le = LabelEncoder()\n",
        "  data[columna] = le.fit_transform(data[columna])"
      ],
      "metadata": {
        "id": "GcxRaOoqkOyD"
      },
      "execution_count": 12,
      "outputs": []
    },
    {
      "cell_type": "code",
      "source": [
        "#Fechas a numeros\n",
        "for columna in columnas_fechas:\n",
        "  data[columna] = pd.to_numeric(data[columna].map(datetime.timestamp))"
      ],
      "metadata": {
        "id": "hVuep7WXkQvA"
      },
      "execution_count": 13,
      "outputs": []
    },
    {
      "cell_type": "code",
      "source": [
        "#resultado\n",
        "print(data)"
      ],
      "metadata": {
        "colab": {
          "base_uri": "https://localhost:8080/"
        },
        "id": "vHzN_Uj0kS96",
        "outputId": "7605e89b-01dd-4017-eca6-56338db98bc0"
      },
      "execution_count": 14,
      "outputs": [
        {
          "output_type": "stream",
          "name": "stdout",
          "text": [
            "     company  price_rupiah  diameter  topping  variant  size  extra_sauce  \\\n",
            "0          0      235000.0      22.0        2        8     1            1   \n",
            "1          0      198000.0      20.0        7        8     1            1   \n",
            "2          0      120000.0      16.0        5        8     4            1   \n",
            "3          0      155000.0      14.0        9        8     4            1   \n",
            "4          0      248000.0      18.0        4        8     1            1   \n",
            "..       ...           ...       ...      ...      ...   ...          ...   \n",
            "124        4       39000.0       8.5       10       16     5            1   \n",
            "125        4       72000.0      12.0       10       16     3            1   \n",
            "126        4       99000.0      14.0       10       16     2            1   \n",
            "127        4       44000.0       8.5        3        0     5            1   \n",
            "128        4       78000.0      12.0        3        0     3            0   \n",
            "\n",
            "     extra_cheese  extra_mushrooms  \n",
            "0               1                0  \n",
            "1               1                0  \n",
            "2               1                1  \n",
            "3               0                1  \n",
            "4               0                1  \n",
            "..            ...              ...  \n",
            "124             1                1  \n",
            "125             1                1  \n",
            "126             1                1  \n",
            "127             0                1  \n",
            "128             0                1  \n",
            "\n",
            "[129 rows x 9 columns]\n"
          ]
        }
      ]
    },
    {
      "cell_type": "code",
      "source": [
        "data.info()"
      ],
      "metadata": {
        "colab": {
          "base_uri": "https://localhost:8080/"
        },
        "id": "tJ9GFsACksGy",
        "outputId": "1e1d8d90-6e6c-4b36-b0b3-bcddbcaedcb8"
      },
      "execution_count": 15,
      "outputs": [
        {
          "output_type": "stream",
          "name": "stdout",
          "text": [
            "<class 'pandas.core.frame.DataFrame'>\n",
            "RangeIndex: 129 entries, 0 to 128\n",
            "Data columns (total 9 columns):\n",
            " #   Column           Non-Null Count  Dtype  \n",
            "---  ------           --------------  -----  \n",
            " 0   company          129 non-null    int64  \n",
            " 1   price_rupiah     129 non-null    float64\n",
            " 2   diameter         129 non-null    float64\n",
            " 3   topping          129 non-null    int64  \n",
            " 4   variant          129 non-null    int64  \n",
            " 5   size             129 non-null    int64  \n",
            " 6   extra_sauce      129 non-null    int64  \n",
            " 7   extra_cheese     129 non-null    int64  \n",
            " 8   extra_mushrooms  129 non-null    int64  \n",
            "dtypes: float64(2), int64(7)\n",
            "memory usage: 9.2 KB\n"
          ]
        }
      ]
    },
    {
      "cell_type": "code",
      "source": [
        "#Para facilitar el calculo movemos la columna 'price_rupiah' al final del dataset\n",
        "columna_a_mover = data['price_rupiah']  # Extrae la columna que deseas mover\n",
        "data.drop(columns=['price_rupiah'], inplace=True)  # Elimina la columna del DataFrame\n",
        "data['price_rupiah'] = columna_a_mover  # Agrega la columna al final del DataFrame"
      ],
      "metadata": {
        "id": "N_KnLK2qSG4r"
      },
      "execution_count": 16,
      "outputs": []
    },
    {
      "cell_type": "code",
      "source": [
        "data.info()"
      ],
      "metadata": {
        "colab": {
          "base_uri": "https://localhost:8080/"
        },
        "id": "_n7po4eaSTgW",
        "outputId": "66eb9cd7-f94c-4365-e7fc-7fdcdd4859d5"
      },
      "execution_count": 17,
      "outputs": [
        {
          "output_type": "stream",
          "name": "stdout",
          "text": [
            "<class 'pandas.core.frame.DataFrame'>\n",
            "RangeIndex: 129 entries, 0 to 128\n",
            "Data columns (total 9 columns):\n",
            " #   Column           Non-Null Count  Dtype  \n",
            "---  ------           --------------  -----  \n",
            " 0   company          129 non-null    int64  \n",
            " 1   diameter         129 non-null    float64\n",
            " 2   topping          129 non-null    int64  \n",
            " 3   variant          129 non-null    int64  \n",
            " 4   size             129 non-null    int64  \n",
            " 5   extra_sauce      129 non-null    int64  \n",
            " 6   extra_cheese     129 non-null    int64  \n",
            " 7   extra_mushrooms  129 non-null    int64  \n",
            " 8   price_rupiah     129 non-null    float64\n",
            "dtypes: float64(2), int64(7)\n",
            "memory usage: 9.2 KB\n"
          ]
        }
      ]
    },
    {
      "cell_type": "code",
      "source": [
        "#Se selecciona a price_rupiah como el valor para Y\n",
        "# Lectura de Datos\n",
        "X = data.iloc[:, :8]\n",
        "y = data.iloc[:, 8]\n",
        "m = y.size"
      ],
      "metadata": {
        "id": "YuuRUXgCwvZ_"
      },
      "execution_count": 18,
      "outputs": []
    },
    {
      "cell_type": "code",
      "source": [
        "print(X)\n",
        "print('*'*25)\n",
        "print(y)"
      ],
      "metadata": {
        "colab": {
          "base_uri": "https://localhost:8080/"
        },
        "id": "x1NBC6A6xFoC",
        "outputId": "6fcea09e-aebc-4dfc-abf1-38e18f23f5e8"
      },
      "execution_count": 19,
      "outputs": [
        {
          "output_type": "stream",
          "name": "stdout",
          "text": [
            "     company  diameter  topping  variant  size  extra_sauce  extra_cheese  \\\n",
            "0          0      22.0        2        8     1            1             1   \n",
            "1          0      20.0        7        8     1            1             1   \n",
            "2          0      16.0        5        8     4            1             1   \n",
            "3          0      14.0        9        8     4            1             0   \n",
            "4          0      18.0        4        8     1            1             0   \n",
            "..       ...       ...      ...      ...   ...          ...           ...   \n",
            "124        4       8.5       10       16     5            1             1   \n",
            "125        4      12.0       10       16     3            1             1   \n",
            "126        4      14.0       10       16     2            1             1   \n",
            "127        4       8.5        3        0     5            1             0   \n",
            "128        4      12.0        3        0     3            0             0   \n",
            "\n",
            "     extra_mushrooms  \n",
            "0                  0  \n",
            "1                  0  \n",
            "2                  1  \n",
            "3                  1  \n",
            "4                  1  \n",
            "..               ...  \n",
            "124                1  \n",
            "125                1  \n",
            "126                1  \n",
            "127                1  \n",
            "128                1  \n",
            "\n",
            "[129 rows x 8 columns]\n",
            "*************************\n",
            "0      235000.0\n",
            "1      198000.0\n",
            "2      120000.0\n",
            "3      155000.0\n",
            "4      248000.0\n",
            "         ...   \n",
            "124     39000.0\n",
            "125     72000.0\n",
            "126     99000.0\n",
            "127     44000.0\n",
            "128     78000.0\n",
            "Name: price_rupiah, Length: 129, dtype: float64\n"
          ]
        }
      ]
    },
    {
      "cell_type": "code",
      "source": [
        "def  featureNormalize(X):\n",
        "    X_norm = X.copy()\n",
        "    mu = np.zeros(X.shape[1])\n",
        "    sigma = np.zeros(X.shape[1])\n",
        "\n",
        "    mu = np.mean(X, axis = 0)\n",
        "    sigma = np.std(X, axis = 0)\n",
        "    X_norm = (X - mu) / sigma\n",
        "\n",
        "    return X_norm, mu, sigma"
      ],
      "metadata": {
        "id": "DrrFytt2gkI8"
      },
      "execution_count": 20,
      "outputs": []
    },
    {
      "cell_type": "code",
      "source": [
        "# llama featureNormalize con los datos cargados\n",
        "X_norm, mu, sigma = featureNormalize(X)\n",
        "\n",
        "print(X)\n",
        "print('Media calculada:', mu)\n",
        "print('Desviación estandar calculada:', sigma)\n",
        "print(X_norm)"
      ],
      "metadata": {
        "colab": {
          "base_uri": "https://localhost:8080/"
        },
        "id": "MhHhItqc4YLy",
        "outputId": "75709266-2581-409a-d842-4f0ba53beb51"
      },
      "execution_count": 21,
      "outputs": [
        {
          "output_type": "stream",
          "name": "stdout",
          "text": [
            "     company  diameter  topping  variant  size  extra_sauce  extra_cheese  \\\n",
            "0          0      22.0        2        8     1            1             1   \n",
            "1          0      20.0        7        8     1            1             1   \n",
            "2          0      16.0        5        8     4            1             1   \n",
            "3          0      14.0        9        8     4            1             0   \n",
            "4          0      18.0        4        8     1            1             0   \n",
            "..       ...       ...      ...      ...   ...          ...           ...   \n",
            "124        4       8.5       10       16     5            1             1   \n",
            "125        4      12.0       10       16     3            1             1   \n",
            "126        4      14.0       10       16     2            1             1   \n",
            "127        4       8.5        3        0     5            1             0   \n",
            "128        4      12.0        3        0     3            0             0   \n",
            "\n",
            "     extra_mushrooms  \n",
            "0                  0  \n",
            "1                  0  \n",
            "2                  1  \n",
            "3                  1  \n",
            "4                  1  \n",
            "..               ...  \n",
            "124                1  \n",
            "125                1  \n",
            "126                1  \n",
            "127                1  \n",
            "128                1  \n",
            "\n",
            "[129 rows x 8 columns]\n",
            "Media calculada: company             2.046512\n",
            "diameter           12.976744\n",
            "topping             5.294574\n",
            "variant             8.155039\n",
            "size                2.868217\n",
            "extra_sauce         0.589147\n",
            "extra_cheese        0.666667\n",
            "extra_mushrooms     0.558140\n",
            "dtype: float64\n",
            "Desviación estandar calculada: company            1.429807\n",
            "diameter           3.259964\n",
            "topping            3.192538\n",
            "variant            5.245078\n",
            "size               1.464727\n",
            "extra_sauce        0.491989\n",
            "extra_cheese       0.471405\n",
            "extra_mushrooms    0.496608\n",
            "dtype: float64\n",
            "     company  diameter   topping   variant      size  extra_sauce  \\\n",
            "0   -1.43132  2.767900 -1.031961 -0.029559 -1.275472     0.835086   \n",
            "1   -1.43132  2.154397  0.534191 -0.029559 -1.275472     0.835086   \n",
            "2   -1.43132  0.927389 -0.092269 -0.029559  0.772692     0.835086   \n",
            "3   -1.43132  0.313886  1.160652 -0.029559  0.772692     0.835086   \n",
            "4   -1.43132  1.540893 -0.405500 -0.029559 -1.275472     0.835086   \n",
            "..       ...       ...       ...       ...       ...          ...   \n",
            "124  1.36626 -1.373250  1.473883  1.495680  1.455414     0.835086   \n",
            "125  1.36626 -0.299618  1.473883  1.495680  0.089971     0.835086   \n",
            "126  1.36626  0.313886  1.473883  1.495680 -0.592750     0.835086   \n",
            "127  1.36626 -1.373250 -0.718730 -1.554798  1.455414     0.835086   \n",
            "128  1.36626 -0.299618 -0.718730 -1.554798  0.089971    -1.197482   \n",
            "\n",
            "     extra_cheese  extra_mushrooms  \n",
            "0        0.707107        -1.123903  \n",
            "1        0.707107        -1.123903  \n",
            "2        0.707107         0.889757  \n",
            "3       -1.414214         0.889757  \n",
            "4       -1.414214         0.889757  \n",
            "..            ...              ...  \n",
            "124      0.707107         0.889757  \n",
            "125      0.707107         0.889757  \n",
            "126      0.707107         0.889757  \n",
            "127     -1.414214         0.889757  \n",
            "128     -1.414214         0.889757  \n",
            "\n",
            "[129 rows x 8 columns]\n"
          ]
        }
      ]
    },
    {
      "cell_type": "code",
      "source": [
        "# Añade el termino de interseccion a X\n",
        "# (Columna de unos para X0)\n",
        "X = np.concatenate([np.ones((m, 1)), X_norm], axis=1)"
      ],
      "metadata": {
        "id": "EB4cCmdm4bxJ"
      },
      "execution_count": 22,
      "outputs": []
    },
    {
      "cell_type": "code",
      "source": [
        "print(X)"
      ],
      "metadata": {
        "colab": {
          "base_uri": "https://localhost:8080/"
        },
        "id": "jxdWrQDC4fcD",
        "outputId": "ce2411b6-7bb0-49ba-a899-1d8e055c78b2"
      },
      "execution_count": 23,
      "outputs": [
        {
          "output_type": "stream",
          "name": "stdout",
          "text": [
            "[[ 1.         -1.43132011  2.76790034 ...  0.83508588  0.70710678\n",
            "  -1.12390297]\n",
            " [ 1.         -1.43132011  2.15439665 ...  0.83508588  0.70710678\n",
            "  -1.12390297]\n",
            " [ 1.         -1.43132011  0.92738929 ...  0.83508588  0.70710678\n",
            "   0.88975652]\n",
            " ...\n",
            " [ 1.          1.3662601   0.31388561 ...  0.83508588  0.70710678\n",
            "   0.88975652]\n",
            " [ 1.          1.3662601  -1.37324952 ...  0.83508588 -1.41421356\n",
            "   0.88975652]\n",
            " [ 1.          1.3662601  -0.29961808 ... -1.19748163 -1.41421356\n",
            "   0.88975652]]\n"
          ]
        }
      ]
    },
    {
      "cell_type": "code",
      "source": [
        "def computeCostMulti(X, y, theta):\n",
        "    # Inicializa algunos valores utiles\n",
        "    m = y.shape[0] # numero de ejemplos de entrenamiento\n",
        "\n",
        "    J = 0\n",
        "\n",
        "    h = np.dot(X, theta)\n",
        "\n",
        "    J = (1/(2 * m)) * np.sum(np.square(np.dot(X, theta) - y))\n",
        "\n",
        "    return J\n"
      ],
      "metadata": {
        "id": "is_NER384kX5"
      },
      "execution_count": 24,
      "outputs": []
    },
    {
      "cell_type": "code",
      "source": [
        "def gradientDescentMulti(X, y, theta, alpha, num_iters):\n",
        "\n",
        "    # Inicializa algunos valores\n",
        "    m = y.shape[0] # numero de ejemplos de entrenamiento\n",
        "\n",
        "    # realiza una copia de theta, el cual será acutalizada por el descenso por el gradiente\n",
        "    theta = theta.copy()\n",
        "\n",
        "    J_history = []\n",
        "\n",
        "    for i in range(num_iters):\n",
        "        theta = theta - (alpha / m) * (np.dot(X, theta) - y).dot(X)\n",
        "        J_history.append(computeCostMulti(X, y, theta))\n",
        "\n",
        "    return theta, J_history"
      ],
      "metadata": {
        "id": "NTic99Il4k9H"
      },
      "execution_count": 25,
      "outputs": []
    },
    {
      "cell_type": "code",
      "source": [
        "# Elegir algun valor para alpha (probar varias alternativas)\n",
        "alpha = 0.001\n",
        "num_iters = 3000\n",
        "\n",
        "# inicializa theta y ejecuta el descenso por el gradiente\n",
        "theta = np.zeros(9)\n",
        "theta, J_history = gradientDescentMulti(X, y, theta, alpha, num_iters)\n",
        "\n",
        "# Grafica la convergencia del costo\n",
        "pyplot.plot(np.arange(len(J_history)), J_history, lw=2)\n",
        "pyplot.xlabel('Numero de iteraciones')\n",
        "pyplot.ylabel('Costo J')\n",
        "\n",
        "# Muestra los resultados del descenso por el gradiente\n",
        "print('theta calculado por el descenso por el gradiente: {:s}'.format(str(theta)))\n",
        "\n",
        "# # Estimar el precio para una pizza con diferentes caracteristicas\n",
        "X_array = [4, 0, 18.0, 9, 8, 0, 0, 1, 0]\n",
        "X_array[1:9] = (X_array[1:9] - mu) / sigma\n",
        "price = np.dot(X_array, theta)   # Se debe cambiar esto\n",
        "\n",
        "print('El valor predecido es (usando el descenso por el gradiente): {:.4f}'.format(price))"
      ],
      "metadata": {
        "colab": {
          "base_uri": "https://localhost:8080/",
          "height": 534
        },
        "id": "2sc2AmKF4qJQ",
        "outputId": "34935aa2-89b8-4e51-eb17-2fb27a03c610"
      },
      "execution_count": 43,
      "outputs": [
        {
          "output_type": "stream",
          "name": "stdout",
          "text": [
            "theta calculado por el descenso por el gradiente: [82818.66984866 -8042.62881758 29243.23575474  2008.90373365\n",
            " -1331.03182133 -4657.3541646   5983.52449801  -603.07936181\n",
            "  1775.65753978]\n",
            "El valor predecido es (usando el descenso por el gradiente): 389750.6633\n"
          ]
        },
        {
          "output_type": "display_data",
          "data": {
            "text/plain": [
              "<Figure size 640x480 with 1 Axes>"
            ],
            "image/png": "[encoded data removed]"
          },
          "metadata": {}
        }
      ]
    },
    {
      "cell_type": "code",
      "source": [
        "X_array = [4, 0, 18.0, 9, 8, 0, 0, 1, 0]\n",
        "X_array[1:9] = (X_array[1:9] - mu) / sigma"
      ],
      "metadata": {
        "id": "pHpGapUtf4QP"
      },
      "execution_count": 27,
      "outputs": []
    },
    {
      "cell_type": "code",
      "source": [
        "X_array[1:9]"
      ],
      "metadata": {
        "colab": {
          "base_uri": "https://localhost:8080/"
        },
        "id": "c_fhRmzof56K",
        "outputId": "3cdef0c0-c51c-4a6c-99d5-66f1f310bbb0"
      },
      "execution_count": 28,
      "outputs": [
        {
          "output_type": "execute_result",
          "data": {
            "text/plain": [
              "[-1.431320106991182,\n",
              " 1.540892970013871,\n",
              " 1.160652388674935,\n",
              " -0.029558902630266178,\n",
              " -1.9581928083213995,\n",
              " -1.1974816341601835,\n",
              " 0.7071067811865476,\n",
              " -1.1239029738980326]"
            ]
          },
          "metadata": {},
          "execution_count": 28
        }
      ]
    },
    {
      "cell_type": "code",
      "source": [
        "def normalEqn(X, y):\n",
        "\n",
        "    theta = np.zeros(X.shape[1])\n",
        "\n",
        "    theta = np.dot(np.dot(np.linalg.inv(np.dot(X.T,X)),X.T),y)\n",
        "\n",
        "    return theta"
      ],
      "metadata": {
        "id": "_MMoIdODf9FN"
      },
      "execution_count": 29,
      "outputs": []
    },
    {
      "cell_type": "code",
      "source": [
        "# Calcula los parametros con la ecuación de la normal\n",
        "theta = normalEqn(X, y);\n",
        "\n",
        "# Muestra los resultados optenidos a partir de la aplicación de la ecuación de la normal\n",
        "print('Theta calculado a partir de la ecuación de la normal: {:s}'.format(str(theta)));\n",
        "\n",
        "# Estimar el precio para una pizza con diferentes caracteristicas\n",
        "price = np.dot(X_array, theta)\n",
        "\n",
        "print('Estimar el precio para una Pizza con distintas caracteristicas (usando la ecuación de la normal): ${:.0f}'.format(price))"
      ],
      "metadata": {
        "colab": {
          "base_uri": "https://localhost:8080/"
        },
        "id": "E7px4OMrf9un",
        "outputId": "c24d6000-2559-438a-8554-6f65d85cf2f0"
      },
      "execution_count": 37,
      "outputs": [
        {
          "output_type": "stream",
          "name": "stdout",
          "text": [
            "Theta calculado a partir de la ecuación de la normal: [87151.1627907  -4435.21236659 51178.80772565  3547.27016952\n",
            " -1110.24636502 16918.65216038  2808.79175438   544.42767175\n",
            "  1324.61513564]\n",
            "Estimar el precio para una Pizza con distintas caracteristicas (usando la ecuación de la normal): $400367\n"
          ]
        }
      ]
    }
  ]
}