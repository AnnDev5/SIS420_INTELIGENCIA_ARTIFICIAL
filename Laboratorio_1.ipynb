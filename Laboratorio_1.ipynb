{
  "nbformat": 4,
  "nbformat_minor": 0,
  "metadata": {
    "colab": {
      "provenance": []
    },
    "kernelspec": {
      "name": "python3",
      "display_name": "Python 3"
    },
    "language_info": {
      "name": "python"
    }
  },
  "cells": [
    {
      "cell_type": "code",
      "execution_count": 105,
      "metadata": {
        "id": "qUxgZvq33-ID"
      },
      "outputs": [],
      "source": [
        "# utilizado para manejos de directorios y rutas\n",
        "import os\n",
        "\n",
        "# Computacion vectorial y cientifica para python\n",
        "import numpy as np\n",
        "\n",
        "# Librerias para graficación (trazado de gráficos)\n",
        "from matplotlib import pyplot\n",
        "from mpl_toolkits.mplot3d import Axes3D  # Necesario para graficar superficies 3D\n",
        "\n",
        "# llama a matplotlib a embeber graficas dentro de los cuadernillos\n",
        "%matplotlib inline"
      ]
    },
    {
      "cell_type": "code",
      "source": [
        "import pandas as pd\n",
        "from sklearn.preprocessing import LabelEncoder\n",
        "from datetime import datetime"
      ],
      "metadata": {
        "id": "3zeLCpwjiQCT"
      },
      "execution_count": 106,
      "outputs": []
    },
    {
      "cell_type": "code",
      "source": [
        "#Carga de dataset\n",
        "data = pd.read_csv('/content/Onion Prices 2020.csv')"
      ],
      "metadata": {
        "id": "V0ZXOA-6iUmV"
      },
      "execution_count": 107,
      "outputs": []
    },
    {
      "cell_type": "code",
      "source": [
        "print(data)"
      ],
      "metadata": {
        "colab": {
          "base_uri": "https://localhost:8080/"
        },
        "id": "h325dVhXicrs",
        "outputId": "1d02ede4-51c6-457c-f807-633053400b4b"
      },
      "execution_count": 108,
      "outputs": [
        {
          "output_type": "stream",
          "name": "stdout",
          "text": [
            "                 state            district                         market  \\\n",
            "0       Andhra Pradesh             Kurnool                        Kurnool   \n",
            "1       Andhra Pradesh             Kurnool                        Kurnool   \n",
            "2       Andhra Pradesh             Kurnool                        Kurnool   \n",
            "3       Andhra Pradesh             Kurnool                        Kurnool   \n",
            "4       Andhra Pradesh             Kurnool                        Kurnool   \n",
            "...                ...                 ...                            ...   \n",
            "107290     West Bengal  Sounth 24 Parganas  Diamond Harbour(South 24-pgs)   \n",
            "107291     West Bengal  Sounth 24 Parganas  Diamond Harbour(South 24-pgs)   \n",
            "107292     West Bengal  Sounth 24 Parganas  Diamond Harbour(South 24-pgs)   \n",
            "107293     West Bengal  Sounth 24 Parganas  Diamond Harbour(South 24-pgs)   \n",
            "107294     West Bengal  Sounth 24 Parganas  Diamond Harbour(South 24-pgs)   \n",
            "\n",
            "       commodity variety arrival_date  min_price  max_price  modal_price  \n",
            "0          Onion   Local   03/01/2020       1350       4390       3100.0  \n",
            "1          Onion   Local   04/01/2020       1390       4400       3200.0  \n",
            "2          Onion   Local   06/01/2020       1460       5150       4310.0  \n",
            "3          Onion   Local   07/01/2020       2010       5200       4200.0  \n",
            "4          Onion   Local   10/01/2020       1320       4050       3300.0  \n",
            "...          ...     ...          ...        ...        ...          ...  \n",
            "107290     Onion     Red   03/09/2020       2200       2300       2250.0  \n",
            "107291     Onion     Red   04/09/2020       2050       2600       2200.0  \n",
            "107292     Onion     Red   08/09/2020       2700       2875       2800.0  \n",
            "107293     Onion     Red   09/09/2020       2625       2875       2800.0  \n",
            "107294     Onion     Red   10/09/2020       2800       2890       2870.0  \n",
            "\n",
            "[107295 rows x 9 columns]\n"
          ]
        }
      ]
    },
    {
      "cell_type": "code",
      "source": [
        "data.info()"
      ],
      "metadata": {
        "colab": {
          "base_uri": "https://localhost:8080/"
        },
        "id": "ZoYIJwRyifh-",
        "outputId": "269f9d0a-b0e9-461f-daee-2111b854b0ec"
      },
      "execution_count": 109,
      "outputs": [
        {
          "output_type": "stream",
          "name": "stdout",
          "text": [
            "<class 'pandas.core.frame.DataFrame'>\n",
            "RangeIndex: 107295 entries, 0 to 107294\n",
            "Data columns (total 9 columns):\n",
            " #   Column        Non-Null Count   Dtype  \n",
            "---  ------        --------------   -----  \n",
            " 0   state         107295 non-null  object \n",
            " 1   district      107295 non-null  object \n",
            " 2   market        107295 non-null  object \n",
            " 3   commodity     107295 non-null  object \n",
            " 4   variety       107295 non-null  object \n",
            " 5   arrival_date  107295 non-null  object \n",
            " 6   min_price     107295 non-null  int64  \n",
            " 7   max_price     107295 non-null  int64  \n",
            " 8   modal_price   107295 non-null  float64\n",
            "dtypes: float64(1), int64(2), object(6)\n",
            "memory usage: 7.4+ MB\n"
          ]
        }
      ]
    },
    {
      "cell_type": "code",
      "source": [
        "#variables categoricas\n",
        "columnas_categoricas = data.select_dtypes(include=['object']).columns\n",
        "#variables fechas\n",
        "columnas_fechas = data.select_dtypes(include=['datetime64']).columns"
      ],
      "metadata": {
        "id": "sFmWfM7Mjn9Z"
      },
      "execution_count": 110,
      "outputs": []
    },
    {
      "cell_type": "code",
      "source": [
        "#Procesamiento de frases o palabras\n",
        "for columna in columnas_categoricas:\n",
        "  le = LabelEncoder()\n",
        "  data[columna] = le.fit_transform(data[columna])"
      ],
      "metadata": {
        "id": "GcxRaOoqkOyD"
      },
      "execution_count": 111,
      "outputs": []
    },
    {
      "cell_type": "code",
      "source": [
        "#Fechas a numeros\n",
        "for columna in columnas_fechas:\n",
        "  data[columna] = pd.to_numeric(data[columna].map(datetime.timestamp))"
      ],
      "metadata": {
        "id": "hVuep7WXkQvA"
      },
      "execution_count": 112,
      "outputs": []
    },
    {
      "cell_type": "code",
      "source": [
        "#resultado\n",
        "print(data)"
      ],
      "metadata": {
        "colab": {
          "base_uri": "https://localhost:8080/"
        },
        "id": "vHzN_Uj0kS96",
        "outputId": "075df1db-e933-484b-8a45-34f9daf7fd58"
      },
      "execution_count": 114,
      "outputs": [
        {
          "output_type": "stream",
          "name": "stdout",
          "text": [
            "        state  district  market  commodity  variety  arrival_date  min_price  \\\n",
            "0           0       178     486          0        9            18       1350   \n",
            "1           0       178     486          0        9            27       1390   \n",
            "2           0       178     486          0        9            45       1460   \n",
            "3           0       178     486          0        9            54       2010   \n",
            "4           0       178     486          0        9            81       1320   \n",
            "...       ...       ...     ...        ...      ...           ...        ...   \n",
            "107290     21       290     231          0       17            26       2200   \n",
            "107291     21       290     231          0       17            35       2050   \n",
            "107292     21       290     231          0       17            71       2700   \n",
            "107293     21       290     231          0       17            80       2625   \n",
            "107294     21       290     231          0       17            89       2800   \n",
            "\n",
            "        max_price  modal_price  \n",
            "0            4390       3100.0  \n",
            "1            4400       3200.0  \n",
            "2            5150       4310.0  \n",
            "3            5200       4200.0  \n",
            "4            4050       3300.0  \n",
            "...           ...          ...  \n",
            "107290       2300       2250.0  \n",
            "107291       2600       2200.0  \n",
            "107292       2875       2800.0  \n",
            "107293       2875       2800.0  \n",
            "107294       2890       2870.0  \n",
            "\n",
            "[107295 rows x 9 columns]\n"
          ]
        }
      ]
    },
    {
      "cell_type": "code",
      "source": [
        "data.info()"
      ],
      "metadata": {
        "colab": {
          "base_uri": "https://localhost:8080/"
        },
        "id": "tJ9GFsACksGy",
        "outputId": "4a8c0ddd-320e-400e-e810-de45eba9f6c1"
      },
      "execution_count": 115,
      "outputs": [
        {
          "output_type": "stream",
          "name": "stdout",
          "text": [
            "<class 'pandas.core.frame.DataFrame'>\n",
            "RangeIndex: 107295 entries, 0 to 107294\n",
            "Data columns (total 9 columns):\n",
            " #   Column        Non-Null Count   Dtype  \n",
            "---  ------        --------------   -----  \n",
            " 0   state         107295 non-null  int64  \n",
            " 1   district      107295 non-null  int64  \n",
            " 2   market        107295 non-null  int64  \n",
            " 3   commodity     107295 non-null  int64  \n",
            " 4   variety       107295 non-null  int64  \n",
            " 5   arrival_date  107295 non-null  int64  \n",
            " 6   min_price     107295 non-null  int64  \n",
            " 7   max_price     107295 non-null  int64  \n",
            " 8   modal_price   107295 non-null  float64\n",
            "dtypes: float64(1), int64(8)\n",
            "memory usage: 7.4 MB\n"
          ]
        }
      ]
    },
    {
      "cell_type": "code",
      "source": [
        "#Se procede a eliminar la columna 'commodity', ya que estaba generando un valor NaN al normalizar.\n",
        "#Al eliminar 'commodity' no afectaria en nuestros calculos por que es la unica categoria Onion\n",
        "data.drop(columns=['commodity'], axis=1, inplace=True)"
      ],
      "metadata": {
        "id": "UXcSPTAlp-8Z"
      },
      "execution_count": 116,
      "outputs": []
    },
    {
      "cell_type": "code",
      "source": [
        "data.info()"
      ],
      "metadata": {
        "colab": {
          "base_uri": "https://localhost:8080/"
        },
        "id": "IZheY0q7lvQg",
        "outputId": "f214c279-2477-4583-eb1e-ed3bab44bda5"
      },
      "execution_count": 117,
      "outputs": [
        {
          "output_type": "stream",
          "name": "stdout",
          "text": [
            "<class 'pandas.core.frame.DataFrame'>\n",
            "RangeIndex: 107295 entries, 0 to 107294\n",
            "Data columns (total 8 columns):\n",
            " #   Column        Non-Null Count   Dtype  \n",
            "---  ------        --------------   -----  \n",
            " 0   state         107295 non-null  int64  \n",
            " 1   district      107295 non-null  int64  \n",
            " 2   market        107295 non-null  int64  \n",
            " 3   variety       107295 non-null  int64  \n",
            " 4   arrival_date  107295 non-null  int64  \n",
            " 5   min_price     107295 non-null  int64  \n",
            " 6   max_price     107295 non-null  int64  \n",
            " 7   modal_price   107295 non-null  float64\n",
            "dtypes: float64(1), int64(7)\n",
            "memory usage: 6.5 MB\n"
          ]
        }
      ]
    },
    {
      "cell_type": "code",
      "source": [
        "#Se selecciona a modal_price como el valor para Y, ya que es el precio al que normalmente se encontraria\n",
        "# Lectura de Datos\n",
        "X = data.iloc[:, :7]\n",
        "y = data.iloc[:, 7]\n",
        "m = y.size"
      ],
      "metadata": {
        "id": "YuuRUXgCwvZ_"
      },
      "execution_count": 118,
      "outputs": []
    },
    {
      "cell_type": "code",
      "source": [
        "print(X)\n",
        "print('*'*25)\n",
        "print(y)"
      ],
      "metadata": {
        "colab": {
          "base_uri": "https://localhost:8080/"
        },
        "id": "x1NBC6A6xFoC",
        "outputId": "7b2f2afb-93f0-469d-aa79-43f9d41e983a"
      },
      "execution_count": 119,
      "outputs": [
        {
          "output_type": "stream",
          "name": "stdout",
          "text": [
            "        state  district  market  variety  arrival_date  min_price  max_price\n",
            "0           0       178     486        9            18       1350       4390\n",
            "1           0       178     486        9            27       1390       4400\n",
            "2           0       178     486        9            45       1460       5150\n",
            "3           0       178     486        9            54       2010       5200\n",
            "4           0       178     486        9            81       1320       4050\n",
            "...       ...       ...     ...      ...           ...        ...        ...\n",
            "107290     21       290     231       17            26       2200       2300\n",
            "107291     21       290     231       17            35       2050       2600\n",
            "107292     21       290     231       17            71       2700       2875\n",
            "107293     21       290     231       17            80       2625       2875\n",
            "107294     21       290     231       17            89       2800       2890\n",
            "\n",
            "[107295 rows x 7 columns]\n",
            "*************************\n",
            "0         3100.0\n",
            "1         3200.0\n",
            "2         4310.0\n",
            "3         4200.0\n",
            "4         3300.0\n",
            "           ...  \n",
            "107290    2250.0\n",
            "107291    2200.0\n",
            "107292    2800.0\n",
            "107293    2800.0\n",
            "107294    2870.0\n",
            "Name: modal_price, Length: 107295, dtype: float64\n"
          ]
        }
      ]
    },
    {
      "cell_type": "code",
      "source": [
        "def  featureNormalize(X):\n",
        "    X_norm = X.copy()\n",
        "    mu = np.zeros(X.shape[1])\n",
        "    sigma = np.zeros(X.shape[1])\n",
        "\n",
        "    mu = np.mean(X, axis = 0)\n",
        "    sigma = np.std(X, axis = 0)\n",
        "    X_norm = (X - mu) / sigma\n",
        "\n",
        "    return X_norm, mu, sigma"
      ],
      "metadata": {
        "id": "DrrFytt2gkI8"
      },
      "execution_count": 120,
      "outputs": []
    },
    {
      "cell_type": "code",
      "source": [
        "# llama featureNormalize con los datos cargados\n",
        "X_norm, mu, sigma = featureNormalize(X)\n",
        "\n",
        "print(X)\n",
        "print('Media calculada:', mu)\n",
        "print('Desviación estandar calculada:', sigma)\n",
        "print(X_norm)"
      ],
      "metadata": {
        "colab": {
          "base_uri": "https://localhost:8080/"
        },
        "id": "MhHhItqc4YLy",
        "outputId": "663ffa3a-a58c-491f-a189-d9695d837041"
      },
      "execution_count": 121,
      "outputs": [
        {
          "output_type": "stream",
          "name": "stdout",
          "text": [
            "        state  district  market  variety  arrival_date  min_price  max_price\n",
            "0           0       178     486        9            18       1350       4390\n",
            "1           0       178     486        9            27       1390       4400\n",
            "2           0       178     486        9            45       1460       5150\n",
            "3           0       178     486        9            54       2010       5200\n",
            "4           0       178     486        9            81       1320       4050\n",
            "...       ...       ...     ...      ...           ...        ...        ...\n",
            "107290     21       290     231       17            26       2200       2300\n",
            "107291     21       290     231       17            35       2050       2600\n",
            "107292     21       290     231       17            71       2700       2875\n",
            "107293     21       290     231       17            80       2625       2875\n",
            "107294     21       290     231       17            89       2800       2890\n",
            "\n",
            "[107295 rows x 7 columns]\n",
            "Media calculada: state             14.324302\n",
            "district         147.068680\n",
            "market           435.216627\n",
            "variety           13.450496\n",
            "arrival_date     129.989561\n",
            "min_price       1894.479715\n",
            "max_price       2289.960492\n",
            "dtype: float64\n",
            "Desviación estandar calculada: state              5.560318\n",
            "district          89.517728\n",
            "market           264.846969\n",
            "variety            3.804889\n",
            "arrival_date      73.341677\n",
            "min_price       1459.409038\n",
            "max_price       1565.820334\n",
            "dtype: float64\n",
            "           state  district    market   variety  arrival_date  min_price  \\\n",
            "0      -2.576166  0.345533  0.191746 -1.169678     -1.526957  -0.373082   \n",
            "1      -2.576166  0.345533  0.191746 -1.169678     -1.404243  -0.345674   \n",
            "2      -2.576166  0.345533  0.191746 -1.169678     -1.158817  -0.297709   \n",
            "3      -2.576166  0.345533  0.191746 -1.169678     -1.036103   0.079156   \n",
            "4      -2.576166  0.345533  0.191746 -1.169678     -0.667963  -0.393639   \n",
            "...          ...       ...       ...       ...           ...        ...   \n",
            "107290  1.200597  1.596682 -0.771074  0.932880     -1.417878   0.209345   \n",
            "107291  1.200597  1.596682 -0.771074  0.932880     -1.295165   0.106564   \n",
            "107292  1.200597  1.596682 -0.771074  0.932880     -0.804312   0.551950   \n",
            "107293  1.200597  1.596682 -0.771074  0.932880     -0.681598   0.500559   \n",
            "107294  1.200597  1.596682 -0.771074  0.932880     -0.558885   0.620471   \n",
            "\n",
            "        max_price  \n",
            "0        1.341175  \n",
            "1        1.347562  \n",
            "2        1.826544  \n",
            "3        1.858476  \n",
            "4        1.124037  \n",
            "...           ...  \n",
            "107290   0.006412  \n",
            "107291   0.198005  \n",
            "107292   0.373631  \n",
            "107293   0.373631  \n",
            "107294   0.383211  \n",
            "\n",
            "[107295 rows x 7 columns]\n"
          ]
        }
      ]
    },
    {
      "cell_type": "code",
      "source": [
        "# Añade el termino de interseccion a X\n",
        "# (Columna de unos para X0)\n",
        "X = np.concatenate([np.ones((m, 1)), X_norm], axis=1)"
      ],
      "metadata": {
        "id": "EB4cCmdm4bxJ"
      },
      "execution_count": 122,
      "outputs": []
    },
    {
      "cell_type": "code",
      "source": [
        "print(X)"
      ],
      "metadata": {
        "colab": {
          "base_uri": "https://localhost:8080/"
        },
        "id": "jxdWrQDC4fcD",
        "outputId": "085afb68-87dc-4c4b-8e70-4f14b90d34c7"
      },
      "execution_count": 123,
      "outputs": [
        {
          "output_type": "stream",
          "name": "stdout",
          "text": [
            "[[ 1.         -2.57616621  0.3455329  ... -1.52695666 -0.37308232\n",
            "   1.34117527]\n",
            " [ 1.         -2.57616621  0.3455329  ... -1.40424335 -0.34567397\n",
            "   1.3475617 ]\n",
            " [ 1.         -2.57616621  0.3455329  ... -1.15881672 -0.29770935\n",
            "   1.82654385]\n",
            " ...\n",
            " [ 1.          1.20059651  1.59668173 ... -0.8043116   0.55194963\n",
            "   0.37363131]\n",
            " [ 1.          1.20059651  1.59668173 ... -0.68159829  0.50055897\n",
            "   0.37363131]\n",
            " [ 1.          1.20059651  1.59668173 ... -0.55888498  0.62047052\n",
            "   0.38321096]]\n"
          ]
        }
      ]
    },
    {
      "cell_type": "code",
      "source": [
        "def computeCostMulti(X, y, theta):\n",
        "    # Inicializa algunos valores utiles\n",
        "    m = y.shape[0] # numero de ejemplos de entrenamiento\n",
        "\n",
        "    J = 0\n",
        "\n",
        "    h = np.dot(X, theta)\n",
        "\n",
        "    J = (1/(2 * m)) * np.sum(np.square(np.dot(X, theta) - y))\n",
        "\n",
        "    return J\n"
      ],
      "metadata": {
        "id": "is_NER384kX5"
      },
      "execution_count": 124,
      "outputs": []
    },
    {
      "cell_type": "code",
      "source": [
        "def gradientDescentMulti(X, y, theta, alpha, num_iters):\n",
        "\n",
        "    # Inicializa algunos valores\n",
        "    m = y.shape[0] # numero de ejemplos de entrenamiento\n",
        "\n",
        "    # realiza una copia de theta, el cual será acutalizada por el descenso por el gradiente\n",
        "    theta = theta.copy()\n",
        "\n",
        "    J_history = []\n",
        "\n",
        "    for i in range(num_iters):\n",
        "        theta = theta - (alpha / m) * (np.dot(X, theta) - y).dot(X)\n",
        "        J_history.append(computeCostMulti(X, y, theta))\n",
        "\n",
        "    return theta, J_history"
      ],
      "metadata": {
        "id": "NTic99Il4k9H"
      },
      "execution_count": 125,
      "outputs": []
    },
    {
      "cell_type": "code",
      "source": [
        "# Elegir algun valor para alpha (probar varias alternativas)\n",
        "alpha = 0.001\n",
        "num_iters = 3000\n",
        "\n",
        "# inicializa theta y ejecuta el descenso por el gradiente\n",
        "theta = np.zeros(8)\n",
        "theta, J_history = gradientDescentMulti(X, y, theta, alpha, num_iters)\n",
        "\n",
        "# Grafica la convergencia del costo\n",
        "pyplot.plot(np.arange(len(J_history)), J_history, lw=2)\n",
        "pyplot.xlabel('Numero de iteraciones')\n",
        "pyplot.ylabel('Costo J')\n",
        "\n",
        "# Muestra los resultados del descenso por el gradiente\n",
        "print('theta calculado por el descenso por el gradiente: {:s}'.format(str(theta)))\n",
        "\n",
        "# Estimar el precio para una Cebolla con distintos parametros\n",
        "X_array = [1, 2, 1, 300, 8, 25, 2440, 5000]\n",
        "X_array[1:8] = (X_array[1:8] - mu) / sigma\n",
        "price = np.dot(X_array, theta)   # Se debe cambiar esto\n",
        "\n",
        "print('El valor predecido es (usando el descenso por el gradiente): {:.4f}'.format(price))"
      ],
      "metadata": {
        "colab": {
          "base_uri": "https://localhost:8080/",
          "height": 520
        },
        "id": "2sc2AmKF4qJQ",
        "outputId": "0aad4128-0952-481f-c14e-6d02ea121c61"
      },
      "execution_count": 130,
      "outputs": [
        {
          "output_type": "stream",
          "name": "stdout",
          "text": [
            "theta calculado por el descenso por el gradiente: [2004.65376797  -15.68565574    6.29360775   -2.50767789    5.44222074\n",
            "  -11.61873544  736.93597023  764.07070467]\n",
            "El valor predecido es (usando el descenso por el gradiente): 3637.1445\n"
          ]
        },
        {
          "output_type": "display_data",
          "data": {
            "text/plain": [
              "<Figure size 640x480 with 1 Axes>"
            ],
            "image/png": "[encoded data removed]"
          },
          "metadata": {}
        }
      ]
    },
    {
      "cell_type": "code",
      "source": [
        "X_array = [1, 2, 1, 300, 8, 25, 2440, 5000]\n",
        "X_array[1:8] = (X_array[1:8] - mu) / sigma"
      ],
      "metadata": {
        "id": "pHpGapUtf4QP"
      },
      "execution_count": 100,
      "outputs": []
    },
    {
      "cell_type": "code",
      "source": [
        "X_array[1:8]"
      ],
      "metadata": {
        "colab": {
          "base_uri": "https://localhost:8080/"
        },
        "id": "c_fhRmzof56K",
        "outputId": "f4be32d3-0b31-41bd-98ea-ce634e417cf8"
      },
      "execution_count": 101,
      "outputs": [
        {
          "output_type": "execute_result",
          "data": {
            "text/plain": [
              "[-2.2164745226592633,\n",
              " -1.6317290832024884,\n",
              " -0.510546250361434,\n",
              " -1.4324982234532202,\n",
              " -1.4315129707685217,\n",
              " 0.37379533140078824,\n",
              " 1.7307474225674877]"
            ]
          },
          "metadata": {},
          "execution_count": 101
        }
      ]
    },
    {
      "cell_type": "code",
      "source": [
        "def normalEqn(X, y):\n",
        "\n",
        "    theta = np.zeros(X.shape[1])\n",
        "\n",
        "    theta = np.dot(np.dot(np.linalg.inv(np.dot(X.T,X)),X.T),y)\n",
        "\n",
        "    return theta"
      ],
      "metadata": {
        "id": "_MMoIdODf9FN"
      },
      "execution_count": 102,
      "outputs": []
    },
    {
      "cell_type": "code",
      "source": [
        "# Calcula los parametros con la ecuación de la normal\n",
        "theta = normalEqn(X, y);\n",
        "\n",
        "# Muestra los resultados optenidos a partir de la aplicación de la ecuación de la normal\n",
        "print('Theta calculado a partir de la ecuación de la normal: {:s}'.format(str(theta)));\n",
        "\n",
        "# Estimar el precio para una casa de superficie de 1650 sq-ft y tres dormitorios\n",
        "\n",
        "X_array = [1, 2, 1, 300, 8, 25, 2440, 5000]\n",
        "price = np.dot(X_array, theta)\n",
        "\n",
        "print('Estimar el precio para una Cebolla con distintos parametros (usando la ecuación de la normal): ${:.0f}'.format(price))"
      ],
      "metadata": {
        "colab": {
          "base_uri": "https://localhost:8080/"
        },
        "id": "E7px4OMrf9un",
        "outputId": "a424febf-a6c7-46ef-b3ee-e122c5bb186b"
      },
      "execution_count": 131,
      "outputs": [
        {
          "output_type": "stream",
          "name": "stdout",
          "text": [
            "Theta calculado a partir de la ecuación de la normal: [ 2.10952322e+03 -2.24663860e+00  5.01667799e+00 -1.20659829e+00\n",
            "  5.81882933e+00 -2.02808862e+00  6.55511307e+02  8.52929946e+02]\n",
            "Estimar el precio para una Cebolla con distintos parametros (usando la ecuación de la normal): $5865841\n"
          ]
        }
      ]
    }
  ]
}